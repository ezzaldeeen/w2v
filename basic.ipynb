{
 "cells": [
  {
   "cell_type": "code",
   "execution_count": 1,
   "id": "48e967b2-3236-4be9-8a09-7fc2880bc6f9",
   "metadata": {
    "tags": []
   },
   "outputs": [
    {
     "name": "stdout",
     "output_type": "stream",
     "text": [
      "Intel MKL WARNING: Support of Intel(R) Streaming SIMD Extensions 4.2 (Intel(R) SSE4.2) enabled only processors has been deprecated. Intel oneAPI Math Kernel Library 2025.0 will require Intel(R) Advanced Vector Extensions (Intel(R) AVX) instructions.\n",
      "Intel MKL WARNING: Support of Intel(R) Streaming SIMD Extensions 4.2 (Intel(R) SSE4.2) enabled only processors has been deprecated. Intel oneAPI Math Kernel Library 2025.0 will require Intel(R) Advanced Vector Extensions (Intel(R) AVX) instructions.\n"
     ]
    }
   ],
   "source": [
    "import regex as re\n",
    "\n",
    "import numpy as np\n",
    "from tqdm import tqdm\n",
    "import matplotlib.pyplot as plt"
   ]
  },
  {
   "cell_type": "code",
   "execution_count": 37,
   "id": "10d0f7e1-b535-4c82-872a-3c17c5035bc6",
   "metadata": {
    "tags": []
   },
   "outputs": [
    {
     "data": {
      "text/plain": [
       "\"1609\\n\\nTHE SONNETS\\n\\nby William Shakespeare\\n\\n\\n\\n                     1\\n  From fairest creatures we desire increase,\\n  That thereby beauty's rose might never die,\\n  But as the riper should by time decease,\\n  His tender heir might bear his memory:\\n  But thou contracted to thine own bright eyes,\\n  Feed'st thy light's flame with self-substantial fuel,\\n  Making a famine where abundance lies,\\n  Thy self thy foe, to thy sweet self too cruel:\\n  Thou that art now the world's fresh ornament,\\n  And only herald to the gaudy spring,\\n  Within thine own bud buriest thy content,\\n  And tender churl mak'st waste in niggarding:\\n    Pity the world, or else this glutton be,\\n    To eat the world's due, by the grave and thee.\\n\\n\\n                     2\\n  When forty winters shall besiege thy brow,\\n  And dig deep trenches in thy beauty's field,\\n  Thy youth's proud livery so gazed on now,\\n  Will be a tattered weed of small worth held:  \\n  Then being asked, where all thy beauty lies,\\n  Where all the treasure of thy l\""
      ]
     },
     "execution_count": 37,
     "metadata": {},
     "output_type": "execute_result"
    }
   ],
   "source": [
    "with open(\"./shakespeare.txt\", \"r\", encoding=\"utf-8\") as file:\n",
    "    sample = file.read()\n",
    "\n",
    "sample[:1000]"
   ]
  },
  {
   "cell_type": "markdown",
   "id": "0c9feaa9-2c4b-452a-949d-98d0f53a77d6",
   "metadata": {},
   "source": [
    "---\n",
    "    training data should look like:\n",
    "    \n",
    "    <center>       ->    <context>\n",
    "    [0, ..., 1, 0] ->    [0, ..., 1, 0]\n",
    "    [0, ..., 1, 0] ->    [0, ..., 0, 1]\n",
    "    [0, ..., 1, 0] ->    [1, ..., 0, 0]\n",
    "    ...            ->    ...\n",
    "    \n",
    "    where the center word (input) have a number of <context words>\n",
    "    based on the size of the window hence:\n",
    "        if window_size = 2; two context words from both sides (left & right).\n",
    "    \n",
    "    objective:\n",
    "        based on the given input <center word> try to predict the output <context word>\n",
    "        and when we reach to a good performance we hope that the neural network will\n",
    "        try to extract hiddin features, which are going to be the meanings of input words\n",
    "        in a numerical representation.\n",
    "        \n",
    "    steps:\n",
    "        1. split input text into chunks (tokens)\n",
    "        2. assign a token_id per token\n",
    "        3. encode thoes tokens based on their ids (one-hot encoding)\n",
    "        4. building the training data as intended above\n",
    "        5. \n",
    "    \n",
    "    NOTE: this is going to be the basic solution and from here i'll try to improve.\n",
    "    \n",
    "    \n"
   ]
  },
  {
   "cell_type": "code",
   "execution_count": 38,
   "id": "ff3d56c3-fa63-4df1-89dd-bfdf1a8dc2bb",
   "metadata": {},
   "outputs": [],
   "source": [
    "def tokenize(text):\n",
    "    # simple tokenizer\n",
    "    pattern = re.compile(r'[A-Za-z]+[\\w^\\']*|[\\w^\\']*[A-Za-z]+[\\w^\\']*')\n",
    "    return pattern.findall(text.lower())\n",
    "\n",
    "def encode(token_id, vocab_size):\n",
    "    vector = [0] * vocab_size  # which is going to be the input vector size\n",
    "    vector[token_id] = 1\n",
    "    return np.array(vector)  # for training (later)"
   ]
  },
  {
   "cell_type": "code",
   "execution_count": 39,
   "id": "ba773985-37d7-45e4-b85f-f78a74a8e12f",
   "metadata": {},
   "outputs": [
    {
     "data": {
      "text/plain": [
       "['the',\n",
       " 'sonnets',\n",
       " 'by',\n",
       " 'william',\n",
       " 'shakespeare',\n",
       " 'from',\n",
       " 'fairest',\n",
       " 'creatures']"
      ]
     },
     "execution_count": 39,
     "metadata": {},
     "output_type": "execute_result"
    }
   ],
   "source": [
    "tokens = tokenize(sample)\n",
    "tokens[:8]"
   ]
  },
  {
   "cell_type": "code",
   "execution_count": 40,
   "id": "8ba48f6d-6e4f-4e40-b72e-230bde5f6faf",
   "metadata": {},
   "outputs": [],
   "source": [
    "token_to_id = {t: i for i, t in enumerate(set(tokens))}\n",
    "id_to_token = {i: t for i, t in enumerate(set(tokens))}"
   ]
  },
  {
   "cell_type": "code",
   "execution_count": 41,
   "id": "9e1c644c-0f01-4ed7-898c-1822e3ee3b21",
   "metadata": {},
   "outputs": [
    {
     "data": {
      "text/plain": [
       "3199"
      ]
     },
     "execution_count": 41,
     "metadata": {},
     "output_type": "execute_result"
    }
   ],
   "source": [
    "vocab_size = len(set(tokens))\n",
    "vocab_size"
   ]
  },
  {
   "cell_type": "code",
   "execution_count": 42,
   "id": "e1978f1f-d8bd-47c2-9bd9-b62dc92f460f",
   "metadata": {},
   "outputs": [],
   "source": [
    "def combine(*iterables):\n",
    "    # to combine two iterables\n",
    "    # into single iterable\n",
    "    for iterable in iterables:\n",
    "        yield from iterable\n",
    "\n",
    "def build_train(tokens, token_to_id, vocab_size, window_size=2, verbose=False):\n",
    "    center_vectors = []\n",
    "    context_vectors = []\n",
    "    for i, center in enumerate(tokens):\n",
    "        # context words iterable on the right side\n",
    "        r_ctx = range(i+1, min(i+window_size+1, len(tokens)))\n",
    "        # context words iterable on the left side\n",
    "        l_ctx = range(max(0, i-window_size), i)\n",
    "        # combined context iterables from both sides\n",
    "        c_ctx = combine(l_ctx, r_ctx)\n",
    "    \n",
    "        # get numerical representation (one-hot encoding)\n",
    "        # for both: 1. center word 2. context word    \n",
    "        cnt_w_id = token_to_id[center]  \n",
    "        cnt_w_vector = encode(cnt_w_id, vocab_size)  # 1. center word\n",
    "        for w_id in c_ctx:\n",
    "            if verbose:\n",
    "                # <center word>  ->  <ctx word>\n",
    "                print(f\"{center} -> {tokens[w_id]}\")\n",
    "                \n",
    "            ctx_w_id = token_to_id[tokens[w_id]]\n",
    "            ctx_w_vector = encode(ctx_w_id, vocab_size)  # 2. context word\n",
    "            \n",
    "            center_vectors.append(cnt_w_vector)\n",
    "            context_vectors.append(ctx_w_vector)\n",
    "    # store them as numpy.array for training        \n",
    "    return np.array(center_vectors), np.array(context_vectors)"
   ]
  },
  {
   "cell_type": "code",
   "execution_count": 43,
   "id": "512fe169-a6ae-49b3-857b-7ca1dd645a0c",
   "metadata": {},
   "outputs": [
    {
     "name": "stdout",
     "output_type": "stream",
     "text": [
      "center words shape:  (70682, 3199)\n",
      "context words shape:  (70682, 3199)\n"
     ]
    }
   ],
   "source": [
    "cnt, ctx = build_train(tokens, token_to_id, vocab_size)\n",
    "print(\"center words shape: \", cnt.shape)\n",
    "print(\"context words shape: \", ctx.shape)"
   ]
  },
  {
   "cell_type": "markdown",
   "id": "51e6ba3c-3e28-47e5-986e-774759b34ec1",
   "metadata": {},
   "source": [
    "    center words are duplicated:\n",
    "    where the same center word has more than context words\n",
    "    the size depends on the `window_size`\n",
    "    \n",
    "    center word (1) -> context word (1)\n",
    "                    -> context word (2)\n",
    "                    -> ...\n",
    "                    -> context word (N)\n",
    "    ...\n",
    "    center word (M) -> context word (1)\n",
    "                    -> context word (2)\n",
    "                    -> ...\n",
    "                    -> context word (N)\n"
   ]
  },
  {
   "cell_type": "markdown",
   "id": "4b094673-0f20-4a2a-bdb9-98e0e18142ac",
   "metadata": {},
   "source": [
    "---\n",
    "\n",
    "    Forward pass:\n",
    "    -------------\n",
    "    A1   = X @ W1\n",
    "    A2   = A1 @ W2\n",
    "    Z    = softmax(A2)\n",
    "    Loss = cross_entropy(Z, y)\n",
    "    \n",
    "    \n",
    "    How changing W2 impacted the loss?\n",
    "    ----------------------------------\n",
    "    >> dLoss(Z, y)/dW2 = dLoss/dZ * dZ/dA2 * dA2/dW2 \n",
    "    >> dLoss(Z, y)/dW2 = (z - y)           * A1\n",
    "    shape convention:\n",
    "    - (z - y): (#samples, vocab_size)\n",
    "    - A1:      (#samples, embedding_size)\n",
    "    \n",
    "    shape of target matrix to update (W2): (embedding_size, vocab_size)\n",
    "    \n",
    "    ==> A1.T @ (z-y)\n",
    "    \n",
    "    \n",
    "    How changing W1 impacted the loss?\n",
    "    ----------------------------------\n",
    "    >> dLoss(Z, t)/dW1 = dLoss/dZ * dZ/dA2 * dA2/dA1 * dA1/dW1\n",
    "    >> dLoss(Z, t)/dW1 = (z - y)           * W2      * X\n",
    "    \n",
    "    shape convention:\n",
    "    - (z - y): (#samples, vocab_size)\n",
    "    - W2:      (embedding_size, vocab_size)\n",
    "    - X:       (#samples, vocab_size) \n",
    "    \n",
    "    shape of target matrix to update (W1): (vocab_size, embedding_size)\n",
    "    \n",
    "    ==> x.T @ ( (z-y) @ W2.T )\n",
    "    "
   ]
  },
  {
   "cell_type": "code",
   "execution_count": 54,
   "id": "cf33ae72-1644-433c-8811-3fda97af8a93",
   "metadata": {},
   "outputs": [],
   "source": [
    "np.random.seed(42)\n",
    "\n",
    "class Model:\n",
    "    def __init__(self, X, y, vocab_size, embedding_size):\n",
    "        self.X = X\n",
    "        self.y = y\n",
    "        self.vocab_size = vocab_size\n",
    "        self.w1 = np.random.randn(vocab_size, embedding_size)\n",
    "        self.w2 = np.random.randn(embedding_size, vocab_size)\n",
    "    \n",
    "    def forward(self):\n",
    "        self.a1 = self.X @ self.w1  # (vocab_size, embedding_size)\n",
    "        self.a2 = self.a1 @ self.w2  # (tokens, vocab_size)\n",
    "        self.z = self._softmax(self.a2)  # (tokens, vocab_size)\n",
    "        return self.z\n",
    "    \n",
    "    def backward(self, alpha):\n",
    "        self.forward()\n",
    "        # derivatives\n",
    "        dl = self.z - self.y\n",
    "        dw2 = self.a1.T @ dl\n",
    "        dw1 = self.X.T @ (dl @ self.w2.T)\n",
    "        # shape validation\n",
    "        assert(dw2.shape == self.w2.shape)\n",
    "        assert(dw1.shape == self.w1.shape)\n",
    "        # update weights\n",
    "        self.w1 = self.w1 - (alpha * dw1)\n",
    "        self.w2 = self.w2 - (alpha * dw2)\n",
    "        # compute loss\n",
    "        return self._cross_entropy(self.y, self.z)\n",
    "    \n",
    "    @staticmethod    \n",
    "    def _softmax(a):\n",
    "        # a = a - np.max(a)\n",
    "        res = []\n",
    "        for x in a:\n",
    "            exp_ = np.exp(x)\n",
    "            res.append(exp_ / exp_.sum())\n",
    "        return res\n",
    "    \n",
    "    @staticmethod\n",
    "    def _cross_entropy(actual, predicted, epsilon=1e-10):\n",
    "        predicted = np.clip(predicted, epsilon, 1 - epsilon)\n",
    "        return - np.sum(actual * np.log(predicted))"
   ]
  },
  {
   "cell_type": "code",
   "execution_count": 52,
   "id": "1bd04e0c-8ee0-4489-b0f1-c11ecb94d9a8",
   "metadata": {},
   "outputs": [],
   "source": [
    "model = Model(cnt, ctx, vocab_size, 10)"
   ]
  },
  {
   "cell_type": "code",
   "execution_count": 53,
   "id": "8fb80bcf-1542-4839-bb0c-a3d8c7b48f0d",
   "metadata": {},
   "outputs": [
    {
     "name": "stderr",
     "output_type": "stream",
     "text": [
      " 33%|███▎      | 1/3 [00:19<00:38, 19.23s/it]/var/folders/4c/_jt9rf9d39b1jdq0g0cvz7fw0000gn/T/ipykernel_48643/813560458.py:37: RuntimeWarning: overflow encountered in exp\n",
      "  exp_ = np.exp(x)\n",
      "/var/folders/4c/_jt9rf9d39b1jdq0g0cvz7fw0000gn/T/ipykernel_48643/813560458.py:38: RuntimeWarning: invalid value encountered in divide\n",
      "  res.append(exp_ / exp_.sum())\n",
      "100%|██████████| 3/3 [00:48<00:00, 16.16s/it]\n"
     ]
    },
    {
     "data": {
      "image/png": "[encoded data removed]",
      "text/plain": [
       "<Figure size 640x480 with 1 Axes>"
      ]
     },
     "metadata": {},
     "output_type": "display_data"
    },
    {
     "name": "stdout",
     "output_type": "stream",
     "text": [
      "loss: nan\n",
      "CPU times: user 39.6 s, sys: 31.1 s, total: 1min 10s\n",
      "Wall time: 49.4 s\n"
     ]
    }
   ],
   "source": [
    "%%time\n",
    "history = []\n",
    "steps = []\n",
    "for step in tqdm(range(3)):\n",
    "    history.append(model.backward(alpha=0.05))\n",
    "    steps.append(step)\n",
    "    \n",
    "plt.plot(steps, history)\n",
    "plt.show()\n",
    "\n",
    "print(\"loss:\", history[-1])"
   ]
  },
  {
   "cell_type": "code",
   "execution_count": null,
   "id": "c7523df0-6a5a-4760-aa71-dda04f790fe9",
   "metadata": {},
   "outputs": [],
   "source": []
  }
 ],
 "metadata": {
  "kernelspec": {
   "display_name": "Python 3 (ipykernel)",
   "language": "python",
   "name": "python3"
  },
  "language_info": {
   "codemirror_mode": {
    "name": "ipython",
    "version": 3
   },
   "file_extension": ".py",
   "mimetype": "text/x-python",
   "name": "python",
   "nbconvert_exporter": "python",
   "pygments_lexer": "ipython3",
   "version": "3.9.16"
  }
 },
 "nbformat": 4,
 "nbformat_minor": 5
}
