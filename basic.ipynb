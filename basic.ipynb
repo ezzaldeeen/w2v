{
 "cells": [
  {
   "cell_type": "code",
   "execution_count": 2,
   "id": "48e967b2-3236-4be9-8a09-7fc2880bc6f9",
   "metadata": {
    "tags": []
   },
   "outputs": [],
   "source": [
    "import regex as re\n",
    "\n",
    "import numpy as np\n",
    "from tqdm import tqdm\n",
    "import matplotlib.pyplot as plt"
   ]
  },
  {
   "cell_type": "code",
   "execution_count": 103,
   "id": "10d0f7e1-b535-4c82-872a-3c17c5035bc6",
   "metadata": {
    "tags": []
   },
   "outputs": [
    {
     "data": {
      "text/plain": [
       "'Deep learning revolutionized natural language processing (NLP)\\nby offering powerful techniques for extracting meaning from textual data.\\nAt its core, deep learning is a subset of machine learning that employs neural networks\\nwith multiple layers to model and extract intricate patterns from data.\\nIn NLP, this manifests in various architectures like recurrent neural networks (RNNs),\\nconvolutional neural networks (CNNs), and more notably, transformers. Transformers,\\nintroduced by the seminal \"Attention is All You Need\" paper, have become a cornerstone in modern NLP\\ndue to their ability to capture long-range dependencies and contextual information effectively.\\nOne of the most renowned transformer models is BERT (Bidirectional Encoder Representations from Transformers),\\nwhich pre-trains a deep bidirectional representation of text using a large corpus of data.\\nThis pre-training allows BERT to grasp intricate linguistic nuances and semantics,\\nmaking it exceptionally adept at tasks like sentim'"
      ]
     },
     "execution_count": 103,
     "metadata": {},
     "output_type": "execute_result"
    }
   ],
   "source": [
    "with open(\"./basic_corp_001.txt\", \"r\", encoding=\"utf-8\") as file:\n",
    "    corpus = file.read()\n",
    "# sample\n",
    "corpus[:1000]"
   ]
  },
  {
   "cell_type": "markdown",
   "id": "0c9feaa9-2c4b-452a-949d-98d0f53a77d6",
   "metadata": {},
   "source": [
    "---\n",
    "    training data should look like:\n",
    "    \n",
    "    <center>       ->    <context>\n",
    "    [0, ..., 1, 0] ->    [0, ..., 1, 0]\n",
    "    [0, ..., 1, 0] ->    [0, ..., 0, 1]\n",
    "    [0, ..., 1, 0] ->    [1, ..., 0, 0]\n",
    "    ...            ->    ...\n",
    "    \n",
    "    where the center word (input) have a number of <context words>\n",
    "    based on the size of the window hence:\n",
    "        if window_size = 2; two context words from both sides (left & right).\n",
    "    \n",
    "    objective:\n",
    "        based on the given input <center word> try to predict the output <context word>\n",
    "        and when we reach to a good performance we hope that the neural network will\n",
    "        try to extract hiddin features, which are going to be the meanings of input words\n",
    "        in a numerical representation.\n",
    "        \n",
    "    steps:\n",
    "        1. split input text into chunks (tokens)\n",
    "        2. assign a token_id per token\n",
    "        3. encode thoes tokens based on their ids (one-hot encoding)\n",
    "        4. building the training data as intended above\n",
    "        5. \n",
    "    \n",
    "    NOTE: this is going to be the basic solution and from here i'll try to improve.\n",
    "    \n",
    "    \n"
   ]
  },
  {
   "cell_type": "code",
   "execution_count": 6,
   "id": "ff3d56c3-fa63-4df1-89dd-bfdf1a8dc2bb",
   "metadata": {},
   "outputs": [],
   "source": [
    "def tokenize(text):\n",
    "    # simple tokenizer\n",
    "    pattern = re.compile(r'[A-Za-z]+[\\w^\\']*|[\\w^\\']*[A-Za-z]+[\\w^\\']*')\n",
    "    return pattern.findall(text.lower())\n",
    "\n",
    "def encode(token_id, vocab_size):\n",
    "    vector = [0] * vocab_size  # which is going to be the input vector size\n",
    "    vector[token_id] = 1\n",
    "    return np.array(vector)  # for training (later)"
   ]
  },
  {
   "cell_type": "code",
   "execution_count": 104,
   "id": "ba773985-37d7-45e4-b85f-f78a74a8e12f",
   "metadata": {},
   "outputs": [
    {
     "data": {
      "text/plain": [
       "['deep',\n",
       " 'learning',\n",
       " 'revolutionized',\n",
       " 'natural',\n",
       " 'language',\n",
       " 'processing',\n",
       " 'nlp',\n",
       " 'by']"
      ]
     },
     "execution_count": 104,
     "metadata": {},
     "output_type": "execute_result"
    }
   ],
   "source": [
    "tokens = tokenize(corpus)\n",
    "tokens[:8]"
   ]
  },
  {
   "cell_type": "code",
   "execution_count": 105,
   "id": "8ba48f6d-6e4f-4e40-b72e-230bde5f6faf",
   "metadata": {},
   "outputs": [],
   "source": [
    "token_to_id = {t: i for i, t in enumerate(set(tokens))}\n",
    "id_to_token = {i: t for i, t in enumerate(set(tokens))}"
   ]
  },
  {
   "cell_type": "code",
   "execution_count": 106,
   "id": "9e1c644c-0f01-4ed7-898c-1822e3ee3b21",
   "metadata": {},
   "outputs": [
    {
     "data": {
      "text/plain": [
       "332"
      ]
     },
     "execution_count": 106,
     "metadata": {},
     "output_type": "execute_result"
    }
   ],
   "source": [
    "vocab_size = len(set(tokens))\n",
    "vocab_size"
   ]
  },
  {
   "cell_type": "code",
   "execution_count": 107,
   "id": "e1978f1f-d8bd-47c2-9bd9-b62dc92f460f",
   "metadata": {},
   "outputs": [],
   "source": [
    "def combine(*iterables):\n",
    "    # to combine two iterables\n",
    "    # into single iterable\n",
    "    for iterable in iterables:\n",
    "        yield from iterable\n",
    "\n",
    "def build_train(tokens, token_to_id, vocab_size, window_size=2, verbose=False):\n",
    "    center_vectors = []\n",
    "    context_vectors = []\n",
    "    for i, center in enumerate(tokens):\n",
    "        # context words iterable on the right side\n",
    "        r_ctx = range(i+1, min(i+window_size+1, len(tokens)))\n",
    "        # context words iterable on the left side\n",
    "        l_ctx = range(max(0, i-window_size), i)\n",
    "        # combined context iterables from both sides\n",
    "        c_ctx = combine(l_ctx, r_ctx)\n",
    "    \n",
    "        # get numerical representation (one-hot encoding)\n",
    "        # for both: 1. center word 2. context word    \n",
    "        cnt_w_id = token_to_id[center]  \n",
    "        cnt_w_vector = encode(cnt_w_id, vocab_size)  # 1. center word\n",
    "        for w_id in c_ctx:\n",
    "            if verbose:\n",
    "                # <center word>  ->  <ctx word>\n",
    "                print(f\"{center} -> {tokens[w_id]}\")\n",
    "                \n",
    "            ctx_w_id = token_to_id[tokens[w_id]]\n",
    "            ctx_w_vector = encode(ctx_w_id, vocab_size)  # 2. context word\n",
    "            \n",
    "            center_vectors.append(cnt_w_vector)\n",
    "            context_vectors.append(ctx_w_vector)\n",
    "    # store them as numpy.array for training        \n",
    "    return np.array(center_vectors), np.array(context_vectors)"
   ]
  },
  {
   "cell_type": "code",
   "execution_count": 108,
   "id": "512fe169-a6ae-49b3-857b-7ca1dd645a0c",
   "metadata": {},
   "outputs": [
    {
     "name": "stdout",
     "output_type": "stream",
     "text": [
      "center words shape:  (3482, 332)\n",
      "context words shape:  (3482, 332)\n"
     ]
    }
   ],
   "source": [
    "cnt, ctx = build_train(tokens, token_to_id, vocab_size)\n",
    "print(\"center words shape: \", cnt.shape)\n",
    "print(\"context words shape: \", ctx.shape)"
   ]
  },
  {
   "cell_type": "markdown",
   "id": "51e6ba3c-3e28-47e5-986e-774759b34ec1",
   "metadata": {},
   "source": [
    "    center words are duplicated:\n",
    "    where the same center word has more than context words\n",
    "    the size depends on the `window_size`\n",
    "    \n",
    "    center word (1) -> context word (1)\n",
    "                    -> context word (2)\n",
    "                    -> ...\n",
    "                    -> context word (N)\n",
    "    ...\n",
    "    center word (M) -> context word (1)\n",
    "                    -> context word (2)\n",
    "                    -> ...\n",
    "                    -> context word (N)\n"
   ]
  },
  {
   "cell_type": "markdown",
   "id": "4b094673-0f20-4a2a-bdb9-98e0e18142ac",
   "metadata": {},
   "source": [
    "---\n",
    "\n",
    "    Forward pass:\n",
    "    -------------\n",
    "    A1   = X @ W1\n",
    "    A2   = A1 @ W2\n",
    "    Z    = softmax(A2)\n",
    "    Loss = cross_entropy(Z, y)\n",
    "    \n",
    "    \n",
    "    How changing W2 impacted the loss?\n",
    "    ----------------------------------\n",
    "    >> dLoss(Z, y)/dW2 = dLoss/dZ * dZ/dA2 * dA2/dW2 \n",
    "    >> dLoss(Z, y)/dW2 = (z - y)           * A1\n",
    "    shape convention:\n",
    "    - (z - y): (#samples, vocab_size)\n",
    "    - A1:      (#samples, embedding_size)\n",
    "    \n",
    "    shape of target matrix to update (W2): (embedding_size, vocab_size)\n",
    "    \n",
    "    ==> A1.T @ (z-y)\n",
    "    \n",
    "    \n",
    "    How changing W1 impacted the loss?\n",
    "    ----------------------------------\n",
    "    >> dLoss(Z, t)/dW1 = dLoss/dZ * dZ/dA2 * dA2/dA1 * dA1/dW1\n",
    "    >> dLoss(Z, t)/dW1 = (z - y)           * W2      * X\n",
    "    \n",
    "    shape convention:\n",
    "    - (z - y): (#samples, vocab_size)\n",
    "    - W2:      (embedding_size, vocab_size)\n",
    "    - X:       (#samples, vocab_size) \n",
    "    \n",
    "    shape of target matrix to update (W1): (vocab_size, embedding_size)\n",
    "    \n",
    "    ==> x.T @ ( (z-y) @ W2.T )\n",
    "    "
   ]
  },
  {
   "cell_type": "code",
   "execution_count": 139,
   "id": "cf33ae72-1644-433c-8811-3fda97af8a93",
   "metadata": {},
   "outputs": [],
   "source": [
    "np.random.seed(42)\n",
    "\n",
    "class Model:\n",
    "    def __init__(self, X, y, vocab_size, embedding_size):\n",
    "        self.X = X\n",
    "        self.y = y\n",
    "        self.vocab_size = vocab_size\n",
    "        self.w1 = np.random.randn(vocab_size, embedding_size)\n",
    "        self.w2 = np.random.randn(embedding_size, vocab_size)\n",
    "    \n",
    "    def forward(self):\n",
    "        self.a1 = self.X @ self.w1  # (vocab_size, embedding_size)\n",
    "        self.a2 = self.a1 @ self.w2  # (tokens, vocab_size)\n",
    "        self.z = self._softmax(self.a2)  # (tokens, vocab_size)\n",
    "        return self.z\n",
    "    \n",
    "    def backward(self, alpha):\n",
    "        self.forward()\n",
    "        # derivatives\n",
    "        dl = self.z - self.y\n",
    "        dw2 = self.a1.T @ dl\n",
    "        dw1 = self.X.T @ (dl @ self.w2.T)\n",
    "        # shape validation\n",
    "        assert(dw2.shape == self.w2.shape)\n",
    "        assert(dw1.shape == self.w1.shape)\n",
    "        # update weights\n",
    "        self.w1 = self.w1 - (alpha * dw1)\n",
    "        self.w2 = self.w2 - (alpha * dw2)\n",
    "        # compute loss\n",
    "        return self._cross_entropy(self.y, self.z)\n",
    "    \n",
    "    @staticmethod    \n",
    "    def _softmax(a):\n",
    "        exp_ = np.exp(a)\n",
    "        props = exp_ / np.sum(exp_, axis=1, keepdims=True)\n",
    "        return props\n",
    "    \n",
    "    @staticmethod\n",
    "    def _cross_entropy(actual, predicted, epsilon=1e-10):\n",
    "        predicted = np.clip(predicted, epsilon, 1 - epsilon)\n",
    "        return - np.sum(actual * np.log(predicted))"
   ]
  },
  {
   "cell_type": "code",
   "execution_count": 142,
   "id": "1bd04e0c-8ee0-4489-b0f1-c11ecb94d9a8",
   "metadata": {},
   "outputs": [],
   "source": [
    "model = Model(cnt, ctx, vocab_size, 30)"
   ]
  },
  {
   "cell_type": "code",
   "execution_count": 143,
   "id": "8fb80bcf-1542-4839-bb0c-a3d8c7b48f0d",
   "metadata": {},
   "outputs": [
    {
     "name": "stdout",
     "output_type": "stream",
     "text": [
      "epoch: 0 - loss: 54808.85453184065\n",
      "epoch: 100 - loss: 10221.274121581639\n",
      "epoch: 200 - loss: 9363.764778628878\n",
      "epoch: 300 - loss: 9275.326250792994\n",
      "epoch: 400 - loss: 9111.779405836574\n",
      "epoch: 500 - loss: 9185.047725493789\n",
      "epoch: 600 - loss: 9074.668200804494\n",
      "epoch: 700 - loss: 9056.151862058901\n",
      "epoch: 800 - loss: 9023.564187764418\n",
      "epoch: 900 - loss: 9083.148200012796\n"
     ]
    },
    {
     "data": {
      "image/png": "[encoded data removed]",
      "text/plain": [
       "<Figure size 640x480 with 1 Axes>"
      ]
     },
     "metadata": {},
     "output_type": "display_data"
    },
    {
     "name": "stdout",
     "output_type": "stream",
     "text": [
      "CPU times: user 2min 46s, sys: 23.9 s, total: 3min 10s\n",
      "Wall time: 27 s\n"
     ]
    }
   ],
   "source": [
    "%%time\n",
    "n_epochs = 1000\n",
    "alpha = 0.005\n",
    "\n",
    "history = []\n",
    "epochs = []\n",
    "for epoch in range(n_epochs):\n",
    "    loss = model.backward(alpha)\n",
    "    if not epoch % 100:\n",
    "        print(f\"epoch: {epoch} - loss: {loss}\")\n",
    "    history.append(loss)\n",
    "    epochs.append(epoch)\n",
    "    \n",
    "plt.plot(epochs, history)\n",
    "plt.grid()\n",
    "plt.show()"
   ]
  },
  {
   "cell_type": "markdown",
   "id": "1a40c3fe-6b3f-438b-a32f-c67cac6d2dff",
   "metadata": {},
   "source": [
    "    i believe it tries to learn the.\n",
    "    i tried arbitrary hyperparameters just for some varifications"
   ]
  },
  {
   "cell_type": "code",
   "execution_count": 188,
   "id": "a3ea8d21-065d-4446-8700-627826262d1d",
   "metadata": {},
   "outputs": [],
   "source": [
    "def get_relevant_words(w):\n",
    "    token_id = token_to_id[w]\n",
    "    similarites = model.w1 @ model.w1[token_id]\n",
    "    most_similar = np.argsort(similarites)[::-1][:10]\n",
    "    \n",
    "    for i, tid in enumerate(most_similar):\n",
    "        print(f\"word #{i}: {id_to_token[tid]}\")"
   ]
  },
  {
   "cell_type": "code",
   "execution_count": 189,
   "id": "ca2a8be8-53f4-4949-8abf-f650abdcc472",
   "metadata": {},
   "outputs": [
    {
     "name": "stdout",
     "output_type": "stream",
     "text": [
      "word #0: transformers\n",
      "word #1: empowering\n",
      "word #2: models\n",
      "word #3: learn\n",
      "word #4: art\n",
      "word #5: transformer\n",
      "word #6: pre\n",
      "word #7: trains\n",
      "word #8: at\n",
      "word #9: mitigate\n"
     ]
    }
   ],
   "source": [
    "get_relevant_words(\"transformers\")"
   ]
  },
  {
   "cell_type": "code",
   "execution_count": null,
   "id": "0d97a6da-a32c-4a86-bdc5-85666ff17e9f",
   "metadata": {},
   "outputs": [],
   "source": []
  }
 ],
 "metadata": {
  "kernelspec": {
   "display_name": "Python 3 (ipykernel)",
   "language": "python",
   "name": "python3"
  },
  "language_info": {
   "codemirror_mode": {
    "name": "ipython",
    "version": 3
   },
   "file_extension": ".py",
   "mimetype": "text/x-python",
   "name": "python",
   "nbconvert_exporter": "python",
   "pygments_lexer": "ipython3",
   "version": "3.9.16"
  }
 },
 "nbformat": 4,
 "nbformat_minor": 5
}
