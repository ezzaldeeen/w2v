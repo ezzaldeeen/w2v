{
 "cells": [
  {
   "cell_type": "markdown",
   "id": "afd1292d-e2f6-4914-866b-f1e98909e8fe",
   "metadata": {},
   "source": [
    "I have a corpus (body of text), and i want to estimate the words representations in the corpus"
   ]
  },
  {
   "cell_type": "code",
   "execution_count": 700,
   "id": "f2466c11-d4cc-4520-a3cd-5c10de24df4a",
   "metadata": {},
   "outputs": [],
   "source": [
    "import numpy as np\n",
    "import matplotlib.pyplot as plt"
   ]
  },
  {
   "cell_type": "code",
   "execution_count": 709,
   "id": "808b8ff2-b03d-457f-8816-4b496fd0e154",
   "metadata": {},
   "outputs": [],
   "source": [
    "text = '''\n",
    "When forty winters shall besiege thy brow,\n",
    "And dig deep trenches in thy beauty's field,\n",
    "Thy youth's proud livery so gazed on now,\n",
    "Will be a tattered weed of small worth held:  \n",
    "Then being asked, where all thy beauty lies,\n",
    "Where all the treasure of thy lusty days;\n",
    "To say within thine own deep sunken eyes,\n",
    "Were an all-eating shame, and thriftless praise.\n",
    "How much more praise deserved thy beauty's use,\n",
    "If thou couldst answer 'This fair child of mine\n",
    "Shall sum my count, and make my old excuse'\n",
    "Proving his beauty by succession thine.\n",
    "This were to be new made when thou art old,\n",
    "And see thy blood warm when thou feel'st it cold.\n",
    "When forty winters shall besiege thy brow,\n",
    "And dig deep trenches in thy beauty's field,\n",
    "Thy youth's proud livery so gazed on now,\n",
    "Will be a tattered weed of small worth held:  \n",
    "Then being asked, where all thy beauty lies,\n",
    "Where all the treasure of thy lusty days;\n",
    "To say within thine own deep sunken eyes,\n",
    "Were an all-eating shame, and thriftless praise.\n",
    "How much more praise deserved thy beauty's use,\n",
    "If thou couldst answer 'This fair child of mine\n",
    "Shall sum my count, and make my old excuse'\n",
    "Proving his beauty by succession thine.\n",
    "This were to be new made when thou art old,\n",
    "And see thy blood warm when thou feel'st it cold.\n",
    "When forty winters shall besiege thy brow,\n",
    "And dig deep trenches in thy beauty's field,\n",
    "Thy youth's proud livery so gazed on now,\n",
    "Will be a tattered weed of small worth held:  \n",
    "Then being asked, where all thy beauty lies,\n",
    "Where all the treasure of thy lusty days;\n",
    "To say within thine own deep sunken eyes,\n",
    "Were an all-eating shame, and thriftless praise.\n",
    "How much more praise deserved thy beauty's use,\n",
    "If thou couldst answer 'This fair child of mine\n",
    "Shall sum my count, and make my old excuse'\n",
    "Proving his beauty by succession thine.\n",
    "This were to be new made when thou art old,\n",
    "And see thy blood warm when thou feel'st it cold.\n",
    "'''"
   ]
  },
  {
   "cell_type": "code",
   "execution_count": 710,
   "id": "43cfff52-fb1c-4cb8-ab89-4e7b53ae0c22",
   "metadata": {},
   "outputs": [
    {
     "data": {
      "text/plain": [
       "\"\\nWhen forty winters shall besiege thy brow,\\nAnd dig deep trenches in thy beauty's field,\\nThy youth's proud livery so gazed on now,\\nWill be a tattered weed of small worth held:  \\nThen being asked, where all thy beauty lies,\\nWhere all the treasure of thy lusty days;\\nTo say within thine own deep sunken eyes,\\nWere an all-eating shame, and thriftless praise.\\nHow much more praise deserved thy beauty's use,\\nIf thou couldst answer 'This fair child of mine\\nShall sum my count, and make my old excuse'\\nProving his beauty by succession thine.\\nThis were to be new made when thou art old,\\nAnd see thy blood warm when thou feel'st it cold.\\nWhen forty winters shall besiege thy brow,\\nAnd dig deep trenches in thy beauty's field,\\nThy youth's proud livery so gazed on now,\\nWill be a tattered weed of small worth held:  \\nThen being asked, where all thy beauty lies,\\nWhere all the treasure of thy lusty days;\\nTo say within thine own deep sunken eyes,\\nWere an all-eating shame, and thriftless praise.\\nHow much more praise deserved thy beauty's use,\\nIf thou couldst answer 'This fair child of mine\\nShall sum my count, and make my old excuse'\\nProving his beauty by succession thine.\\nThis were to be new made when thou art old,\\nAnd see thy blood warm when thou feel'st it cold.\\nWhen forty winters shall besiege thy brow,\\nAnd dig deep trenches in thy beauty's field,\\nThy youth's proud livery so gazed on now,\\nWill be a tattered weed of small worth held:  \\nThen being asked, where all thy beauty lies,\\nWhere all the treasure of thy lusty days;\\nTo say within thine own deep sunken eyes,\\nWere an all-eating shame, and thriftless praise.\\nHow much more praise deserved thy beauty's use,\\nIf thou couldst answer 'This fair child of mine\\nShall sum my count, and make my old excuse'\\nProving his beauty by succession thine.\\nThis were to be new made when thou art old,\\nAnd see thy blood warm when thou feel'st it cold.\\n\""
      ]
     },
     "execution_count": 710,
     "metadata": {},
     "output_type": "execute_result"
    }
   ],
   "source": [
    "text"
   ]
  },
  {
   "cell_type": "code",
   "execution_count": 711,
   "id": "e454686d-2db6-481b-afb0-47399d3aea15",
   "metadata": {},
   "outputs": [],
   "source": [
    "def tokenize(text):\n",
    "    return text.lower().split()"
   ]
  },
  {
   "cell_type": "code",
   "execution_count": 712,
   "id": "c1c92a2c-f542-472a-8b1a-fad8c5db1307",
   "metadata": {},
   "outputs": [
    {
     "data": {
      "text/plain": [
       "(['when', 'forty', 'winters'], 90)"
      ]
     },
     "execution_count": 712,
     "metadata": {},
     "output_type": "execute_result"
    }
   ],
   "source": [
    "tokens = tokenize(text)\n",
    "vocab_size = len(set(tokens))\n",
    "corpus_size = len(tokens)\n",
    "tokens[:3], vocab_size"
   ]
  },
  {
   "cell_type": "markdown",
   "id": "dbb3b294-431c-476b-8103-9a6bf91045bd",
   "metadata": {},
   "source": [
    "```\n",
    "Approch #1:\n",
    "for each word there is an initial representations for it:\n",
    "for example: word -> [0, 0, 0, 0, 1, 0, 0, 0, ...]\n",
    "which is a one-hot vector that represents the word in the corpus, where the size of the vector is the 'vocab_size'\n",
    "```"
   ]
  },
  {
   "cell_type": "code",
   "execution_count": 713,
   "id": "b6f4d11b-d052-4192-afed-e7fc5cb20250",
   "metadata": {},
   "outputs": [],
   "source": [
    "token_to_id = {t:i for i, t in enumerate(set(tokens))}\n",
    "id_to_token = {i:t for i, t in enumerate(set(tokens))}"
   ]
  },
  {
   "cell_type": "code",
   "execution_count": 714,
   "id": "b2d08d1b-e1bb-4703-836e-68e7c2163b5f",
   "metadata": {},
   "outputs": [],
   "source": [
    "def encode(token, idx):\n",
    "    vector = [0] * vocab_size\n",
    "    vector[idx] = 1\n",
    "    return vector"
   ]
  },
  {
   "cell_type": "markdown",
   "id": "f0076db6-50fc-465e-979d-066ff1be7b07",
   "metadata": {},
   "source": [
    "```\n",
    "generate training data from the corpus, based on window\n",
    "for each token the corpus we're going to take the context (outside words) of the token and consider it as the label, and the token going to be the input:\n",
    "for example:\n",
    "            <context>  <token>   <context>\n",
    "    text: 'when forty [winters] shall besiege'\n",
    "    window size = 2 -- two from both the left and the \n",
    "                       right of the token.\n",
    "                       \n",
    "centers:    contexts:\n",
    "   winters -> when \n",
    "   winters -> forty\n",
    "   winters -> shall\n",
    "   winters -> besiege\n",
    "   \n",
    "   but they aren't represented as a text words,\n",
    "   instead going to be:\n",
    "   x:                      y:\n",
    "   [..., 0, 1, 0, ...] -> [..., 1, 0, 0, ...]\n",
    "   [..., 1, 0, 0, ...] -> [..., 0, 1, 0, ...]\n",
    "    .\n",
    "    ..\n",
    "    ...\n",
    "```"
   ]
  },
  {
   "cell_type": "code",
   "execution_count": 715,
   "id": "a6deb693-6421-4b48-a03e-9886d3569800",
   "metadata": {},
   "outputs": [],
   "source": [
    "def combine(*iterables):\n",
    "    for iterable in iterables:\n",
    "        yield from iterable"
   ]
  },
  {
   "cell_type": "code",
   "execution_count": 716,
   "id": "0001ebea-7678-4e22-83bb-1328864bf9b0",
   "metadata": {},
   "outputs": [],
   "source": [
    "def generate(tokens, vocab_size, token_to_id, window_size):\n",
    "    \"\"\"\n",
    "    Generate training data from the corpus,\n",
    "    based on window for each token the corpus we're\n",
    "    going to take the context (outside words) of the token\n",
    "    and consider it as the label,\n",
    "    and the token going to be the input:\n",
    "    \n",
    "    for example:\n",
    "                       <CONTEXT>   <CENTER>   <CONTEXT>\n",
    "        INPUT TEXT  = 'when forty [winters] shall besiege'\n",
    "        WINDOW SIZE = 2 -- two from both the left and the \n",
    "                           right of the token.\n",
    "                           \n",
    "       centers ->  contexts\n",
    "       ---------------------\n",
    "       winters -> when \n",
    "       winters -> forty\n",
    "       winters -> shall\n",
    "       winters -> besiege\n",
    "\n",
    "       but they aren't represented as a text words,\n",
    "       instead going to be:\n",
    "       \n",
    "       centers ->  contexts\n",
    "       ------------------------------------------\n",
    "       [..., 0, 1, 0, ...] -> [..., 1, 0, 0, ...]\n",
    "       [..., 1, 0, 0, ...] -> [..., 0, 1, 0, ...]\n",
    "    \"\"\"\n",
    "    centers = []\n",
    "    contexts = []\n",
    "    for idx, center in enumerate(tokens):\n",
    "        # window (local context) form the left-side, and right-side\n",
    "        left = range(max(0, (idx - window_size)), idx)\n",
    "        right = range(idx + 1, min(len(tokens), idx + window_size + 1)) \n",
    "        local_context = combine(left, right)\n",
    "        for c in local_context:\n",
    "            context = tokens[c]\n",
    "            centers.append(encode(center, token_to_id[center]))\n",
    "            contexts.append(encode(context, token_to_id[context]))\n",
    "            \n",
    "    return np.array(centers), np.array(contexts)"
   ]
  },
  {
   "cell_type": "code",
   "execution_count": 717,
   "id": "31c84302-a7fd-4470-a193-10e4d237b5fc",
   "metadata": {},
   "outputs": [
    {
     "data": {
      "text/plain": [
       "((1374, 90), (1374, 90))"
      ]
     },
     "execution_count": 717,
     "metadata": {},
     "output_type": "execute_result"
    }
   ],
   "source": [
    "centers, contexts = generate(tokens, vocab_size, token_to_id, 2)\n",
    "centers.shape, contexts.shape"
   ]
  },
  {
   "cell_type": "code",
   "execution_count": 718,
   "id": "21346be9-7e32-4fe9-9c08-7459220d9d18",
   "metadata": {},
   "outputs": [],
   "source": [
    "np.random.seed(42)"
   ]
  },
  {
   "cell_type": "code",
   "execution_count": 719,
   "id": "d13b08ab-78e4-4375-9ba9-499fc82b2906",
   "metadata": {},
   "outputs": [],
   "source": [
    "def initialize(vocab_size, embedding_size):\n",
    "    model = {\n",
    "        \"W1\": np.random.randn(vocab_size, embedding_size),\n",
    "        \"W2\": np.random.randn(embedding_size, vocab_size)\n",
    "    }\n",
    "    return model"
   ]
  },
  {
   "cell_type": "code",
   "execution_count": 720,
   "id": "c418e2d2-54a7-4b46-89fe-6033699ce049",
   "metadata": {},
   "outputs": [],
   "source": [
    "model = initialize(vocab_size, 10)"
   ]
  },
  {
   "cell_type": "code",
   "execution_count": 761,
   "id": "7bcd4000-2f5a-4322-a5f7-068bbc798a24",
   "metadata": {},
   "outputs": [],
   "source": [
    "def softmax(X):\n",
    "    X -= np.max(X)\n",
    "    exp = np.exp(X)\n",
    "    return exp / np.sum(exp)"
   ]
  },
  {
   "cell_type": "code",
   "execution_count": 762,
   "id": "3c259499-2d28-4d4b-80b3-e032560d78ef",
   "metadata": {},
   "outputs": [],
   "source": [
    "def forward(model, X):\n",
    "    cache = {}\n",
    "    cache['A1'] = X @ model['W1']\n",
    "    cache['A2'] = cache['A1'] @ model['W2']\n",
    "    cache['Z'] = softmax(cache['A2'])\n",
    "    return cache"
   ]
  },
  {
   "cell_type": "code",
   "execution_count": 723,
   "id": "0f667c82-3630-4144-8561-6a6592367e88",
   "metadata": {},
   "outputs": [],
   "source": [
    "cache = forward(model, centers)"
   ]
  },
  {
   "cell_type": "code",
   "execution_count": 724,
   "id": "bd47245d-5738-4294-bcc4-cd04b4ce56e7",
   "metadata": {},
   "outputs": [
    {
     "data": {
      "text/plain": [
       "'forty'"
      ]
     },
     "execution_count": 724,
     "metadata": {},
     "output_type": "execute_result"
    }
   ],
   "source": [
    "id_to_token[np.argmax(contexts[0])]"
   ]
  },
  {
   "cell_type": "code",
   "execution_count": 725,
   "id": "e5883458-15f6-4682-9460-e1a3e5fabcf2",
   "metadata": {},
   "outputs": [
    {
     "data": {
      "text/plain": [
       "'now,'"
      ]
     },
     "execution_count": 725,
     "metadata": {},
     "output_type": "execute_result"
    }
   ],
   "source": [
    "id_to_token[np.argmax(cache['Z'][0])]"
   ]
  },
  {
   "cell_type": "code",
   "execution_count": 726,
   "id": "2acee178-0797-46cd-abc3-b3daad784e30",
   "metadata": {},
   "outputs": [],
   "source": [
    "def cross_entropy_loss(actual, prediction):\n",
    "    loss = - np.sum(actual * np.log(prediction))\n",
    "    return loss"
   ]
  },
  {
   "cell_type": "code",
   "execution_count": 727,
   "id": "3e17fc37-ce7b-4c41-aa87-32a13c3a859d",
   "metadata": {},
   "outputs": [
    {
     "data": {
      "text/plain": [
       "25774.040293245638"
      ]
     },
     "execution_count": 727,
     "metadata": {},
     "output_type": "execute_result"
    }
   ],
   "source": [
    "cross_entropy_loss(centers, cache['Z'])"
   ]
  },
  {
   "cell_type": "markdown",
   "id": "ec564c34-d465-4cc8-a2db-2ab7d5be349a",
   "metadata": {},
   "source": [
    "```\n",
    "BACKPROB\n",
    "\n",
    "A1 =    X         @     W1\n",
    "    (obs, voca)      (voca, embds)\n",
    "A2 =    A1        @     W2\n",
    "    (obs, embds)      (embds, voca)\n",
    "    \n",
    "Z = Softmax(A2)\n",
    "(obs, voca)\n",
    "\n",
    "\n",
    "Z = Softmax((X @ W1) @ W2)\n",
    "LOSS = CCE(Z)\n",
    "\n",
    "update w2 (embds, voca):\n",
    "dl/dw2 = dl/dz * dz/a2 * a2/w2\n",
    "dl/dw2 =    a1.T * z - y ------> (Eq1)\n",
    "         (embds, obs) (obs, voca)\n",
    "\n",
    "\n",
    "update w1 (voca, embds):\n",
    "\n",
    "dl/dw1 = dl/dz * dz/da2 * da2/da1        * da1/dw1\n",
    "       = [z - y       ] * W2             * X\n",
    "       = (obs, voca)    * (embds, voca)  * (obs, voca)\n",
    "       \n",
    "       = X.T @ [z - y] @ W2.T ------> (Eq2)\n",
    "          (voca, embds)\n",
    "\n",
    "```"
   ]
  },
  {
   "cell_type": "code",
   "execution_count": 728,
   "id": "ecdf79b0-0843-42ca-abf4-ac92049e86ea",
   "metadata": {},
   "outputs": [],
   "source": [
    "def backword(model, X, y, alpha):\n",
    "    cache = forward(model, X)\n",
    "    dW2 = cache['A1'].T @ (cache['Z'] - y)\n",
    "    dW1 = (X.T @ ((cache['Z'] - y) @ model['W2'].T))\n",
    "    \n",
    "    model['W2'] = model['W2'] - (alpha * dW2)\n",
    "    model['W1'] = model['W1'] - (alpha * dW1)\n",
    "    \n",
    "    return cross_entropy_loss(X, cache['Z'])"
   ]
  },
  {
   "cell_type": "code",
   "execution_count": 729,
   "id": "e5a87def-e084-4ff9-b195-19a5e0f690e7",
   "metadata": {},
   "outputs": [],
   "source": [
    "iterations = 50\n",
    "history = [backword(model, centers, contexts, 0.001) for _ in range(iterations)]"
   ]
  },
  {
   "cell_type": "code",
   "execution_count": 730,
   "id": "0e472da5-9099-4345-8651-7786251ee0e6",
   "metadata": {},
   "outputs": [
    {
     "data": {
      "image/png": "[encoded data removed]",
      "text/plain": [
       "<Figure size 640x480 with 1 Axes>"
      ]
     },
     "metadata": {},
     "output_type": "display_data"
    }
   ],
   "source": []
  },
  {
   "cell_type": "code",
   "execution_count": 771,
   "id": "0643ec93-d27d-41e7-bb36-23622d2ba6f9",
   "metadata": {},
   "outputs": [
    {
     "name": "stderr",
     "output_type": "stream",
     "text": [
      "/var/folders/4c/_jt9rf9d39b1jdq0g0cvz7fw0000gn/T/ipykernel_22870/1011859587.py:2: RuntimeWarning: divide by zero encountered in log\n",
      "  loss = - np.sum(actual * np.log(prediction))\n",
      "/var/folders/4c/_jt9rf9d39b1jdq0g0cvz7fw0000gn/T/ipykernel_22870/1011859587.py:2: RuntimeWarning: invalid value encountered in multiply\n",
      "  loss = - np.sum(actual * np.log(prediction))\n"
     ]
    },
    {
     "data": {
      "image/png": "[encoded data removed]",
      "text/plain": [
       "<Figure size 640x480 with 1 Axes>"
      ]
     },
     "metadata": {},
     "output_type": "display_data"
    }
   ],
   "source": [
    "# consts\n",
    "iterations = 50\n",
    "embed_size = 10\n",
    "learning_rate = 0.05\n",
    "\n",
    "model = initialize(vocab_size, embed_size)\n",
    "history = [backword(model, centers, contexts, learning_rate) for _ in range(iterations)]\n",
    "\n",
    "fig, ax = plt.subplots()\n",
    "ax.plot(range(len(history)), history)\n",
    "plt.show()"
   ]
  },
  {
   "cell_type": "code",
   "execution_count": null,
   "id": "2d3ba1e9-7fee-4aac-9457-54517b888723",
   "metadata": {},
   "outputs": [],
   "source": []
  }
 ],
 "metadata": {
  "kernelspec": {
   "display_name": "Python 3 (ipykernel)",
   "language": "python",
   "name": "python3"
  },
  "language_info": {
   "codemirror_mode": {
    "name": "ipython",
    "version": 3
   },
   "file_extension": ".py",
   "mimetype": "text/x-python",
   "name": "python",
   "nbconvert_exporter": "python",
   "pygments_lexer": "ipython3",
   "version": "3.9.16"
  }
 },
 "nbformat": 4,
 "nbformat_minor": 5
}
