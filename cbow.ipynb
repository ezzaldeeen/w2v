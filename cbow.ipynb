{
 "cells": [
  {
   "cell_type": "code",
   "execution_count": 73,
   "metadata": {},
   "outputs": [],
   "source": [
    "import regex as re\n",
    "\n",
    "import numpy as np\n",
    "import matplotlib.pyplot as plt"
   ]
  },
  {
   "cell_type": "code",
   "execution_count": 197,
   "metadata": {},
   "outputs": [
    {
     "data": {
      "text/plain": [
       "'\\ufeffThe Project Gutenberg eBook of Pride and Prejudice\\n    \\nThis ebook is for the use of anyone anywhere in the United States and\\nmost other parts of the world at no cost and with almost no restrictions\\nwhatsoever. You may copy it, give it away or re-use it under the terms\\nof the Project Gutenberg License included with this ebook or online\\nat www.gutenberg.org. If you are not located in the United States,\\nyou will have to check the laws of the country where you are located\\nbefore using this eBook.\\n\\nTitle: Pride and Prejudice\\n\\n\\nAuthor: Jane Austen\\n\\nRelease date: June 1, 1998 [eBook #1342]\\n                Most recently updated: April 14, 2023\\n\\nLanguage: English\\n\\nCredits: Chuck Greif and the Online Distributed Proofreading Team at http://www.pgdp.net (This file was produced from images available at The Internet Archive)\\n\\n\\n*** START OF THE PROJECT GUTENBERG EBOOK PRIDE AND PREJUDICE ***\\n\\n\\n\\n\\n\\n                            [Illustration:\\n\\n                             GEORGE ALLEN\\n                '"
      ]
     },
     "execution_count": 197,
     "metadata": {},
     "output_type": "execute_result"
    }
   ],
   "source": [
    "with open(\"cbow_corp_001.txt\", encoding=\"utf-8\") as file:\n",
    "    corpus = file.read()\n",
    "    \n",
    "# sample of the corpus\n",
    "corpus[:1000]"
   ]
  },
  {
   "cell_type": "code",
   "execution_count": 198,
   "metadata": {},
   "outputs": [
    {
     "name": "stdout",
     "output_type": "stream",
     "text": [
      "vocab size: 6982\n"
     ]
    }
   ],
   "source": [
    "def tokenize(corpus):\n",
    "    # simple tokenizer\n",
    "    pattern = re.compile(r'[A-Za-z]+')\n",
    "    return pattern.findall(corpus.lower())\n",
    "\n",
    "# tokenize the corpus\n",
    "tokens = tokenize(corpus)\n",
    "# vocabulary (set of unique words)\n",
    "vocab = set(tokens)\n",
    "# vocabulary size\n",
    "vocab_size = len(vocab)\n",
    "\n",
    "id2token = {i: t for i, t in enumerate(vocab)}\n",
    "token2id = {t: i for i, t in enumerate(vocab)}\n",
    "\n",
    "def encode(token, token2id):\n",
    "    # create a one-hot vector\n",
    "    idx = token2id[token]\n",
    "    vector = [0] * vocab_size\n",
    "    vector[idx] = 1\n",
    "    return np.array(vector)\n",
    "\n",
    "\n",
    "print(\"vocab size:\", vocab_size)"
   ]
  },
  {
   "cell_type": "markdown",
   "metadata": {},
   "source": [
    "```text\n",
    "    objective:\n",
    "        based on the given context try to predict the center word,\n",
    "        training the neural net on this objective going to build\n",
    "        a word representaion (word embeddings) hopefully.\n",
    "\n",
    "    preparing the training data:\n",
    "        [0, 0, 1, 0, ..., 0] -> 'context word(i-2)'\n",
    "        [0, 1, 0, 0, ..., 0] -> 'context word(i-1)'\n",
    "        [1, 0, 0, 0, ..., 0] -> 'context word(i+1)'\n",
    "        [0, 0, 0, 0, ..., 1] -> 'context word(i+2)'\n",
    "\n",
    "        compined vectors:\n",
    "        [1, 1, 1, 1, ..., 1] -> 'context words' # this is going to be the input\n",
    "\n",
    "        center word:\n",
    "        [0, 0, 0, 0, ..., 0] -> 'center word' # to be predicted\n",
    "\n",
    "        NOTE: values in vectors just for demo\n",
    "\n",
    "```"
   ]
  },
  {
   "cell_type": "code",
   "execution_count": 199,
   "metadata": {},
   "outputs": [],
   "source": [
    "def build_data(tokens, window_size=2):\n",
    "    # training data consists of \n",
    "    # context words and center words\n",
    "    # where the model learns to predict\n",
    "    # the center word from the context words\n",
    "    contexts = []\n",
    "    centers = []\n",
    "    for i in range(len(tokens)):\n",
    "        # context per current center word\n",
    "        # to save the context words and combine them\n",
    "        # into single vector per center word\n",
    "        context = []\n",
    "        for j in range(max(0, i-window_size), min(len(tokens), i+window_size+1)):\n",
    "            if i != j:\n",
    "                # encode context word\n",
    "                context.append(encode(tokens[j], token2id))\n",
    "        # encode center word\n",
    "        centers.append(encode(tokens[i], token2id))\n",
    "        # combine context words into single vector\n",
    "        contexts.append(np.sum(context, axis=0))\n",
    "        \n",
    "    return np.array(contexts), np.array(centers)"
   ]
  },
  {
   "cell_type": "code",
   "execution_count": 200,
   "metadata": {},
   "outputs": [
    {
     "name": "stdout",
     "output_type": "stream",
     "text": [
      "contexts: (131622, 6982)\n",
      "centers: (131622, 6982)\n"
     ]
    }
   ],
   "source": [
    "# build the training data\n",
    "contexts, centers = build_data(tokens)\n",
    "print(\"contexts:\", contexts.shape)\n",
    "print(\"centers:\", centers.shape)"
   ]
  },
  {
   "cell_type": "code",
   "execution_count": 246,
   "metadata": {},
   "outputs": [],
   "source": [
    "class CBOWModel:\n",
    "    def __init__(self, vocab_size, embedding_size):\n",
    "        # initialize the weights\n",
    "        self.w1 = np.random.randn(vocab_size, embedding_size)\n",
    "        self.w2 = np.random.randn(embedding_size, vocab_size)\n",
    "        assert self.w1.shape[1] == self.w2.shape[0]\n",
    "\n",
    "    def train(self, contexts, centers, epochs=3, batch_size=8000, lr=0.025):\n",
    "        losses = []\n",
    "        num_steps = len(contexts) // batch_size\n",
    "        for epoch in range(epochs):\n",
    "            loss = 0\n",
    "            for step in range(1, num_steps-1):\n",
    "                # forward pass\n",
    "                self._forward(contexts[(step-1)*100:step * 100])\n",
    "                # softmax activation \n",
    "                predictions = self._softmax(self.a2)\n",
    "                # backward pass\n",
    "                self._backward(centers[(step-1)*100:step * 100], predictions, contexts[(step-1)*100:step * 100], lr)\n",
    "                # compute loss\n",
    "                assert predictions.shape == centers[(step-1)*100:step * 100].shape\n",
    "                loss += self._cross_entropy(centers[(step-1)*100:step * 100], predictions)\n",
    "                print(f\"step: {step:03d}/{num_steps} -- loss: {loss:03f}\")\n",
    "            losses.append(loss)\n",
    "            print(f\"epoch: {epoch:03d}/{epochs} -- loss: {loss:03f}\")\n",
    "\n",
    "        return losses\n",
    "\n",
    "    def _forward(self, contexts):\n",
    "        assert contexts.shape[1] == self.w1.shape[0]\n",
    "        self.a1 = np.dot(contexts, self.w1) # out shape: (N, embed_size)\n",
    "        assert self.a1.shape[1] == self.w2.shape[0]\n",
    "        self.a2 = np.dot(self.a1, self.w2) # out shape: (N, vocab)\n",
    "\n",
    "    def _backward(self, actual, predictions, contexts, lr):\n",
    "        loss_grad = predictions - actual\n",
    "        # derivative W2\n",
    "        w2_grad = np.dot(self.a1.T, loss_grad)\n",
    "        # derivative W1\n",
    "        w1_grad = np.dot(contexts.T, np.dot(loss_grad, self.w2.T))\n",
    "        # shape validation\n",
    "        assert w2_grad.shape == self.w2.shape\n",
    "        assert w1_grad.shape == self.w1.shape\n",
    "        # update weights\n",
    "        self.w1 -= lr * w1_grad\n",
    "        self.w2 -= lr * w2_grad\n",
    "\n",
    "    def _softmax(self, a):\n",
    "        # for numerical stability\n",
    "        # avoide numerical overflow\n",
    "        a = a - np.max(a, axis=1, keepdims=True)\n",
    "        exp_a = np.exp(a)\n",
    "        return exp_a / np.sum(exp_a, axis=1, keepdims=True)\n",
    "        \n",
    "    def _cross_entropy(self, actual, prediction, epsilon=1e-10):\n",
    "        prediction = np.clip(prediction, epsilon, 1 - epsilon)\n",
    "        return - np.sum(actual * np.log(prediction))"
   ]
  },
  {
   "cell_type": "code",
   "execution_count": 268,
   "metadata": {},
   "outputs": [
    {
     "name": "stdout",
     "output_type": "stream",
     "text": [
      "step: 001/16 -- loss: 2285.564224\n",
      "step: 002/16 -- loss: 4519.645042\n",
      "step: 003/16 -- loss: 6752.388771\n",
      "step: 004/16 -- loss: 8941.756530\n",
      "step: 005/16 -- loss: 11172.706840\n",
      "step: 006/16 -- loss: 13408.247005\n",
      "step: 007/16 -- loss: 15638.308576\n",
      "step: 008/16 -- loss: 17868.045857\n",
      "step: 009/16 -- loss: 20060.202975\n",
      "step: 010/16 -- loss: 22331.420131\n",
      "step: 011/16 -- loss: 24449.923038\n",
      "step: 012/16 -- loss: 26719.347699\n",
      "step: 013/16 -- loss: 28975.234641\n",
      "step: 014/16 -- loss: 31202.753072\n",
      "epoch: 000/10 -- loss: 31202.753072\n",
      "step: 001/16 -- loss: 1796.234340\n",
      "step: 002/16 -- loss: 3575.075287\n",
      "step: 003/16 -- loss: 5548.974154\n",
      "step: 004/16 -- loss: 7494.697730\n",
      "step: 005/16 -- loss: 9297.084865\n",
      "step: 006/16 -- loss: 11029.387361\n",
      "step: 007/16 -- loss: 12844.304054\n",
      "step: 008/16 -- loss: 14750.095744\n",
      "step: 009/16 -- loss: 16638.029433\n",
      "step: 010/16 -- loss: 18659.839500\n",
      "step: 011/16 -- loss: 20483.236451\n",
      "step: 012/16 -- loss: 22308.157747\n",
      "step: 013/16 -- loss: 24111.131299\n",
      "step: 014/16 -- loss: 25975.435610\n",
      "epoch: 001/10 -- loss: 25975.435610\n",
      "step: 001/16 -- loss: 1041.809225\n",
      "step: 002/16 -- loss: 2070.735422\n",
      "step: 003/16 -- loss: 3234.636888\n",
      "step: 004/16 -- loss: 4571.372022\n",
      "step: 005/16 -- loss: 5801.395850\n",
      "step: 006/16 -- loss: 6880.962469\n",
      "step: 007/16 -- loss: 8090.787083\n",
      "step: 008/16 -- loss: 9213.546056\n",
      "step: 009/16 -- loss: 10395.055785\n",
      "step: 010/16 -- loss: 11592.350933\n",
      "step: 011/16 -- loss: 12837.756937\n",
      "step: 012/16 -- loss: 13839.256833\n",
      "step: 013/16 -- loss: 14959.437918\n",
      "step: 014/16 -- loss: 16123.544898\n",
      "epoch: 002/10 -- loss: 16123.544898\n",
      "step: 001/16 -- loss: 491.502634\n",
      "step: 002/16 -- loss: 893.904269\n",
      "step: 003/16 -- loss: 1620.748588\n",
      "step: 004/16 -- loss: 2461.626711\n",
      "step: 005/16 -- loss: 3216.452113\n",
      "step: 006/16 -- loss: 3909.132677\n",
      "step: 007/16 -- loss: 4575.977065\n",
      "step: 008/16 -- loss: 5178.536213\n",
      "step: 009/16 -- loss: 5832.159908\n",
      "step: 010/16 -- loss: 6477.161298\n",
      "step: 011/16 -- loss: 7166.618627\n",
      "step: 012/16 -- loss: 7714.533294\n",
      "step: 013/16 -- loss: 8337.681976\n",
      "step: 014/16 -- loss: 9052.311132\n",
      "epoch: 003/10 -- loss: 9052.311132\n",
      "step: 001/16 -- loss: 249.812160\n",
      "step: 002/16 -- loss: 382.543933\n",
      "step: 003/16 -- loss: 698.663698\n",
      "step: 004/16 -- loss: 1177.133207\n",
      "step: 005/16 -- loss: 1567.154238\n",
      "step: 006/16 -- loss: 1996.278170\n",
      "step: 007/16 -- loss: 2340.171177\n",
      "step: 008/16 -- loss: 2639.371429\n",
      "step: 009/16 -- loss: 3041.861288\n",
      "step: 010/16 -- loss: 3427.769591\n",
      "step: 011/16 -- loss: 3890.500340\n",
      "step: 012/16 -- loss: 4168.799496\n",
      "step: 013/16 -- loss: 4512.468401\n",
      "step: 014/16 -- loss: 4861.221048\n",
      "epoch: 004/10 -- loss: 4861.221048\n",
      "step: 001/16 -- loss: 433.300129\n",
      "step: 002/16 -- loss: 540.603026\n",
      "step: 003/16 -- loss: 763.020462\n",
      "step: 004/16 -- loss: 947.711905\n",
      "step: 005/16 -- loss: 1122.477620\n",
      "step: 006/16 -- loss: 1319.429163\n",
      "step: 007/16 -- loss: 1532.365130\n",
      "step: 008/16 -- loss: 1689.869457\n",
      "step: 009/16 -- loss: 1843.866266\n",
      "step: 010/16 -- loss: 2004.312304\n",
      "step: 011/16 -- loss: 2198.854456\n",
      "step: 012/16 -- loss: 2368.274361\n",
      "step: 013/16 -- loss: 2520.986981\n",
      "step: 014/16 -- loss: 2672.522828\n",
      "epoch: 005/10 -- loss: 2672.522828\n",
      "step: 001/16 -- loss: 129.683948\n",
      "step: 002/16 -- loss: 166.982166\n",
      "step: 003/16 -- loss: 332.580642\n",
      "step: 004/16 -- loss: 465.311145\n",
      "step: 005/16 -- loss: 569.457320\n",
      "step: 006/16 -- loss: 681.228300\n",
      "step: 007/16 -- loss: 773.799793\n",
      "step: 008/16 -- loss: 847.847929\n",
      "step: 009/16 -- loss: 921.568286\n",
      "step: 010/16 -- loss: 996.588579\n",
      "step: 011/16 -- loss: 1079.589854\n",
      "step: 012/16 -- loss: 1163.624440\n",
      "step: 013/16 -- loss: 1273.798130\n",
      "step: 014/16 -- loss: 1365.234989\n",
      "epoch: 006/10 -- loss: 1365.234989\n",
      "step: 001/16 -- loss: 72.289099\n",
      "step: 002/16 -- loss: 101.630727\n",
      "step: 003/16 -- loss: 176.362520\n",
      "step: 004/16 -- loss: 237.347678\n",
      "step: 005/16 -- loss: 294.439036\n",
      "step: 006/16 -- loss: 332.924413\n",
      "step: 007/16 -- loss: 379.965380\n",
      "step: 008/16 -- loss: 490.983834\n",
      "step: 009/16 -- loss: 699.194044\n",
      "step: 010/16 -- loss: 788.928773\n",
      "step: 011/16 -- loss: 833.718722\n",
      "step: 012/16 -- loss: 874.926703\n",
      "step: 013/16 -- loss: 926.850066\n",
      "step: 014/16 -- loss: 1001.977202\n",
      "epoch: 007/10 -- loss: 1001.977202\n",
      "step: 001/16 -- loss: 94.236940\n",
      "step: 002/16 -- loss: 154.730724\n",
      "step: 003/16 -- loss: 187.886116\n",
      "step: 004/16 -- loss: 227.628803\n",
      "step: 005/16 -- loss: 261.074675\n",
      "step: 006/16 -- loss: 309.986121\n",
      "step: 007/16 -- loss: 331.908777\n",
      "step: 008/16 -- loss: 372.780874\n",
      "step: 009/16 -- loss: 483.991251\n",
      "step: 010/16 -- loss: 515.833903\n",
      "step: 011/16 -- loss: 524.609297\n",
      "step: 012/16 -- loss: 533.467746\n",
      "step: 013/16 -- loss: 556.301103\n",
      "step: 014/16 -- loss: 590.859950\n",
      "epoch: 008/10 -- loss: 590.859950\n",
      "step: 001/16 -- loss: 47.565259\n",
      "step: 002/16 -- loss: 74.569451\n",
      "step: 003/16 -- loss: 94.185438\n",
      "step: 004/16 -- loss: 106.389441\n",
      "step: 005/16 -- loss: 117.488638\n",
      "step: 006/16 -- loss: 125.395097\n",
      "step: 007/16 -- loss: 153.505404\n",
      "step: 008/16 -- loss: 171.425188\n",
      "step: 009/16 -- loss: 178.342319\n",
      "step: 010/16 -- loss: 193.608013\n",
      "step: 011/16 -- loss: 203.995100\n",
      "step: 012/16 -- loss: 224.412811\n",
      "step: 013/16 -- loss: 238.883397\n",
      "step: 014/16 -- loss: 248.358889\n",
      "epoch: 009/10 -- loss: 248.358889\n"
     ]
    }
   ],
   "source": [
    "np.random.seed(42)\n",
    "\n",
    "model = CBOWModel(vocab_size, 50)\n",
    "history = model.train(contexts, centers, epochs=10, lr=0.05)"
   ]
  },
  {
   "cell_type": "code",
   "execution_count": 269,
   "metadata": {},
   "outputs": [
    {
     "data": {
      "image/png": "[encoded data removed]",
      "text/plain": [
       "<Figure size 640x480 with 1 Axes>"
      ]
     },
     "metadata": {},
     "output_type": "display_data"
    }
   ],
   "source": [
    "plt.title(\"CBOW Model\")\n",
    "plt.plot([i for i in range(len(history))], history)\n",
    "plt.grid()\n",
    "plt.show()"
   ]
  },
  {
   "cell_type": "code",
   "execution_count": 257,
   "metadata": {},
   "outputs": [],
   "source": [
    "def get_relevant_words(w):\n",
    "    token_id = token2id[w]\n",
    "    similarites = np.dot(model.w1, model.w1[token_id])\n",
    "    most_similar = np.argsort(similarites)[::-1][:10]\n",
    "    \n",
    "    for i, tid in enumerate(most_similar):\n",
    "        print(f\"word #{i}: {id2token[tid]}\")"
   ]
  },
  {
   "cell_type": "code",
   "execution_count": 267,
   "metadata": {},
   "outputs": [
    {
     "name": "stdout",
     "output_type": "stream",
     "text": [
      "word #0: seats\n",
      "word #1: charming\n",
      "word #2: joined\n",
      "word #3: revealing\n",
      "word #4: preparations\n",
      "word #5: diffuseness\n",
      "word #6: she\n",
      "word #7: elder\n",
      "word #8: entrain\n",
      "word #9: robinson\n"
     ]
    }
   ],
   "source": [
    "get_relevant_words(\"seats\")"
   ]
  },
  {
   "cell_type": "code",
   "execution_count": null,
   "metadata": {},
   "outputs": [],
   "source": []
  }
 ],
 "metadata": {
  "kernelspec": {
   "display_name": ".venv",
   "language": "python",
   "name": "python3"
  },
  "language_info": {
   "codemirror_mode": {
    "name": "ipython",
    "version": 3
   },
   "file_extension": ".py",
   "mimetype": "text/x-python",
   "name": "python",
   "nbconvert_exporter": "python",
   "pygments_lexer": "ipython3",
   "version": "3.11.7"
  }
 },
 "nbformat": 4,
 "nbformat_minor": 2
}
